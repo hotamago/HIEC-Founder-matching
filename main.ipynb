{
 "cells": [
  {
   "attachments": {},
   "cell_type": "markdown",
   "metadata": {},
   "source": [
    "# Techstart fouder matching"
   ]
  },
  {
   "attachments": {},
   "cell_type": "markdown",
   "metadata": {},
   "source": [
    "## Import library"
   ]
  },
  {
   "cell_type": "code",
   "execution_count": 6,
   "metadata": {},
   "outputs": [
    {
     "name": "stderr",
     "output_type": "stream",
     "text": [
      "c:\\Users\\nhson\\AppData\\Local\\Programs\\Python\\Python38\\lib\\site-packages\\numpy\\_distributor_init.py:30: UserWarning: loaded more than 1 DLL from .libs:\n",
      "c:\\Users\\nhson\\AppData\\Local\\Programs\\Python\\Python38\\lib\\site-packages\\numpy\\.libs\\libopenblas.FB5AE2TYXYH2IJRDKGDGQ3XBKLKTF43H.gfortran-win_amd64.dll\n",
      "c:\\Users\\nhson\\AppData\\Local\\Programs\\Python\\Python38\\lib\\site-packages\\numpy\\.libs\\libopenblas.GK7GX5KEQ4F6UYO3P26ULGBQYHGQO7J4.gfortran-win_amd64.dll\n",
      "  warnings.warn(\"loaded more than 1 DLL from .libs:\"\n"
     ]
    }
   ],
   "source": [
    "import pandas as pd\n",
    "import os\n",
    "import datetime"
   ]
  },
  {
   "attachments": {},
   "cell_type": "markdown",
   "metadata": {},
   "source": [
    "## Constant"
   ]
  },
  {
   "cell_type": "code",
   "execution_count": 7,
   "metadata": {},
   "outputs": [],
   "source": [
    "maxOfMemberPerTeam = 6\n",
    "maxOfTeamPerUsers = 5\n",
    "nameRoleUser = \"Cá nhân mong muốn tìm được đội thi phù hợp\"\n",
    "nameRoleTeam = \"Đội thi và đang tìm kiếm thêm thành viên\"\n"
   ]
  },
  {
   "cell_type": "code",
   "execution_count": 12,
   "metadata": {},
   "outputs": [],
   "source": [
    "namesCol={\n",
    "    'Timestamp': 'time',\n",
    "    'Bạn đăng ký tham gia ghép đội với vai trò là': 'role',\n",
    "    'Họ và tên nhóm trưởng': 'nameLeader',\n",
    "    'SĐT nhóm trưởng': 'sdtLeader',\n",
    "    'Email nhóm trưởng': 'emailLeader',\n",
    "    'Facebook nhóm trưởng': 'facebookLeader',\n",
    "    'Lĩnh vực của dự án': 'typeProject',\n",
    "    'Thông tin về cơ cấu nhân sự của dự án': 'infoMemberStruct',\n",
    "    'Mô tả sơ lược ý tưởng của dự án': 'shortIdea',\n",
    "    'Giai đoạn phát triển của dự án:': 'statusProject',\n",
    "    'Số thành viên hiện có': 'numberMember',\n",
    "    'Thông tin về kĩ năng của các thành viên trong đội': 'infoMemberSill',\n",
    "    'Thông tin về thành tựu của các thành viên trong đội (nếu có)': 'infoGoalMember',\n",
    "    'Số thành viên mong muốn kết nạp': 'numberRequestAddin',\n",
    "    'Mô tả chân dung thành viên mong muốn kết nạp vào đội': 'profileRequest',\n",
    "    'Thời gian dự kiến đồng hành': 'thoigiandonghanh',\n",
    "    'Thế mạnh chuyên môn của thành viên mong muốn kết nạp (thành viên 1)': 'request01',\n",
    "    'Thế mạnh chuyên môn của thành viên mong muốn kết nạp (thành viên 2)': 'request02',\n",
    "    'Thế mạnh chuyên môn của thành viên mong muốn kết nạp (thành viên 3)': 'request03',\n",
    "    'Thế mạnh chuyên môn của thành viên mong muốn kết nạp (thành viên 4)': 'request04',\n",
    "    \n",
    "    'Họ và tên của bạn': 'name_re',\n",
    "    'Ngày tháng năm sinh của bạn': 'birth_re',\n",
    "    'SĐT của bạn': 'sdt_re',\n",
    "    'Email của bạn': 'email_re',\n",
    "    'Facebook của bạn': 'facebook_re',\n",
    "    '3 lĩnh vực bạn tự tin nhất ở bản thân': 'nicework_re',\n",
    "    '3 thành tích ấn tượng nhất bạn đã đạt được ': 'profile_re',\n",
    "    '3 lĩnh vực của đội thi mà bạn mong muốn được ghép cặp': 'teamRequest_re',\n",
    "    'Bạn đã có ý tưởng rõ ràng chưa? Nếu có hãy mô tả sơ lược về ý tưởng mong muốn theo đổi là gì?': 'idea_re',\n",
    "    }\n",
    "\n",
    "dtypesCol = {\n",
    "    \"time\": str,\n",
    "    \"role\": str,\n",
    "    \"nameLeader\": str,\n",
    "    \"sdtLeader\": str,\n",
    "    \"emailLeader\": str,\n",
    "    \"facebookLeader\": str,\n",
    "    \"typeProject\": str,\n",
    "    \"infoMemberStruct\": str,\n",
    "    \"shortIdea\": str,\n",
    "    \"statusProject\": str,\n",
    "    \"numberMember\": 'Int64',\n",
    "    \"numberRequestAddin\": 'Int64',\n",
    "    \"profileRequest\": str,\n",
    "    \"thoigiandonghanh\": str,\n",
    "    \"request01\": str,\n",
    "    \"request02\": str,\n",
    "    \"request03\": str,\n",
    "    \"request04\": str,\n",
    "\n",
    "    \"name_re\": str,\n",
    "    \"birth_re\": str,\n",
    "    \"sdt_re\": str,\n",
    "    \"email_re\": str,\n",
    "    \"facebook_re\": str,\n",
    "    \"nicework_re\": str,\n",
    "    \"profile_re\": str,\n",
    "    \"teamRequest_re\": str,\n",
    "    \"idea_re\": str,\n",
    "    }\n",
    "\n",
    "idLabel = ['Cơ khí & Chế tạo máy','Công nghệ sinh học','Công nghệ thông tin','Công nghệ môi trường','Công nghệ vật liệu','Công nghệ hóa học','Công nghệ điện - điện tử','Quản lý','Kinh doanh','Tài chính','Truyền thông']\n"
   ]
  },
  {
   "attachments": {},
   "cell_type": "markdown",
   "metadata": {},
   "source": [
    "## Data"
   ]
  },
  {
   "attachments": {},
   "cell_type": "markdown",
   "metadata": {},
   "source": [
    "### Read data"
   ]
  },
  {
   "cell_type": "code",
   "execution_count": 14,
   "metadata": {},
   "outputs": [],
   "source": [
    "df = pd.read_csv('list.csv', header=0, names=list(namesCol.values()), dtype=dtypesCol)\n",
    "df['id'] = range(0, len(df))"
   ]
  },
  {
   "cell_type": "code",
   "execution_count": 16,
   "metadata": {},
   "outputs": [],
   "source": [
    "df = df.fillna(value={\n",
    "    \"thoigiandonghanh\": \"\",\n",
    "    \"request01\": \"\",\n",
    "    \"request02\": \"\",\n",
    "    \"request03\": \"\",\n",
    "    \"request04\": \"\",\n",
    "\n",
    "    \"nicework_re\": \"\",\n",
    "    \"teamRequest_re\": \"\",\n",
    "    \"idea_re\": \"\",\n",
    "    })\n"
   ]
  },
  {
   "cell_type": "code",
   "execution_count": 17,
   "metadata": {},
   "outputs": [
    {
     "data": {
      "text/html": [
       "<div>\n",
       "<style scoped>\n",
       "    .dataframe tbody tr th:only-of-type {\n",
       "        vertical-align: middle;\n",
       "    }\n",
       "\n",
       "    .dataframe tbody tr th {\n",
       "        vertical-align: top;\n",
       "    }\n",
       "\n",
       "    .dataframe thead th {\n",
       "        text-align: right;\n",
       "    }\n",
       "</style>\n",
       "<table border=\"1\" class=\"dataframe\">\n",
       "  <thead>\n",
       "    <tr style=\"text-align: right;\">\n",
       "      <th></th>\n",
       "      <th>time</th>\n",
       "      <th>role</th>\n",
       "      <th>nameLeader</th>\n",
       "      <th>sdtLeader</th>\n",
       "      <th>emailLeader</th>\n",
       "      <th>facebookLeader</th>\n",
       "      <th>typeProject</th>\n",
       "      <th>infoMemberStruct</th>\n",
       "      <th>shortIdea</th>\n",
       "      <th>statusProject</th>\n",
       "      <th>...</th>\n",
       "      <th>name_re</th>\n",
       "      <th>birth_re</th>\n",
       "      <th>sdt_re</th>\n",
       "      <th>email_re</th>\n",
       "      <th>facebook_re</th>\n",
       "      <th>nicework_re</th>\n",
       "      <th>profile_re</th>\n",
       "      <th>teamRequest_re</th>\n",
       "      <th>idea_re</th>\n",
       "      <th>id</th>\n",
       "    </tr>\n",
       "  </thead>\n",
       "  <tbody>\n",
       "    <tr>\n",
       "      <th>0</th>\n",
       "      <td>4/14/2023 18:33:22</td>\n",
       "      <td>Cá nhân mong muốn tìm được đội thi phù hợp</td>\n",
       "      <td>NaN</td>\n",
       "      <td>NaN</td>\n",
       "      <td>NaN</td>\n",
       "      <td>NaN</td>\n",
       "      <td>NaN</td>\n",
       "      <td>NaN</td>\n",
       "      <td>NaN</td>\n",
       "      <td>NaN</td>\n",
       "      <td>...</td>\n",
       "      <td>qưdqw</td>\n",
       "      <td>2/22/0222</td>\n",
       "      <td>123123123</td>\n",
       "      <td>23123@lmao.com</td>\n",
       "      <td>kqndklqwemlwq.com</td>\n",
       "      <td>Cơ khí &amp; Chế tạo máy, Công nghệ thông tin, Kin...</td>\n",
       "      <td>ưqeqwe</td>\n",
       "      <td>Cơ khí &amp; Chế tạo máy, Kinh doanh, Truyền thông</td>\n",
       "      <td>ewqeqwe</td>\n",
       "      <td>0</td>\n",
       "    </tr>\n",
       "    <tr>\n",
       "      <th>1</th>\n",
       "      <td>4/15/2023 20:10:26</td>\n",
       "      <td>Đội thi và đang tìm kiếm thêm thành viên</td>\n",
       "      <td>Sơn</td>\n",
       "      <td>09434434123</td>\n",
       "      <td>daicaothunhson2003@gmail.com</td>\n",
       "      <td>fb.com/fdfdfá</td>\n",
       "      <td>Cơ khí &amp; Chế tạo máy, Công nghệ sinh học, Công...</td>\n",
       "      <td>Nguyễn Văn A - 1/1/2002 - Đại học Bách khoa H...</td>\n",
       "      <td>Vip pro</td>\n",
       "      <td>Dự án đang dừng lại tại mức có ý tưởng ban đầu</td>\n",
       "      <td>...</td>\n",
       "      <td>NaN</td>\n",
       "      <td>NaN</td>\n",
       "      <td>NaN</td>\n",
       "      <td>NaN</td>\n",
       "      <td>NaN</td>\n",
       "      <td></td>\n",
       "      <td>NaN</td>\n",
       "      <td></td>\n",
       "      <td></td>\n",
       "      <td>1</td>\n",
       "    </tr>\n",
       "  </tbody>\n",
       "</table>\n",
       "<p>2 rows × 30 columns</p>\n",
       "</div>"
      ],
      "text/plain": [
       "                 time                                        role nameLeader  \\\n",
       "0  4/14/2023 18:33:22  Cá nhân mong muốn tìm được đội thi phù hợp        NaN   \n",
       "1  4/15/2023 20:10:26    Đội thi và đang tìm kiếm thêm thành viên        Sơn   \n",
       "\n",
       "     sdtLeader                   emailLeader facebookLeader  \\\n",
       "0          NaN                           NaN            NaN   \n",
       "1  09434434123  daicaothunhson2003@gmail.com  fb.com/fdfdfá   \n",
       "\n",
       "                                         typeProject  \\\n",
       "0                                                NaN   \n",
       "1  Cơ khí & Chế tạo máy, Công nghệ sinh học, Công...   \n",
       "\n",
       "                                    infoMemberStruct shortIdea  \\\n",
       "0                                                NaN       NaN   \n",
       "1   Nguyễn Văn A - 1/1/2002 - Đại học Bách khoa H...   Vip pro   \n",
       "\n",
       "                                    statusProject  ...  name_re   birth_re  \\\n",
       "0                                             NaN  ...    qưdqw  2/22/0222   \n",
       "1  Dự án đang dừng lại tại mức có ý tưởng ban đầu  ...      NaN        NaN   \n",
       "\n",
       "      sdt_re        email_re        facebook_re  \\\n",
       "0  123123123  23123@lmao.com  kqndklqwemlwq.com   \n",
       "1        NaN             NaN                NaN   \n",
       "\n",
       "                                         nicework_re profile_re  \\\n",
       "0  Cơ khí & Chế tạo máy, Công nghệ thông tin, Kin...     ưqeqwe   \n",
       "1                                                           NaN   \n",
       "\n",
       "                                   teamRequest_re  idea_re id  \n",
       "0  Cơ khí & Chế tạo máy, Kinh doanh, Truyền thông  ewqeqwe  0  \n",
       "1                                                           1  \n",
       "\n",
       "[2 rows x 30 columns]"
      ]
     },
     "execution_count": 17,
     "metadata": {},
     "output_type": "execute_result"
    }
   ],
   "source": [
    "df\n"
   ]
  },
  {
   "attachments": {},
   "cell_type": "markdown",
   "metadata": {},
   "source": [
    "### Pre process data"
   ]
  },
  {
   "cell_type": "code",
   "execution_count": 18,
   "metadata": {},
   "outputs": [
    {
     "name": "stdout",
     "output_type": "stream",
     "text": [
      "1 |  1\n"
     ]
    }
   ],
   "source": [
    "singleUsers = df.query(\"`role` == '{0}'\".format(nameRoleUser)).loc[:,['id', 'time', 'nicework_re','teamRequest_re']]\n",
    "teams = df.query(\"`role` == '{0}'\".format(nameRoleTeam)).loc[:,['id', 'time', 'typeProject', 'numberMember', 'numberRequestAddin', 'request01','request02','request03','request04']]\n",
    "print(len(singleUsers), \"| \", len(teams))"
   ]
  },
  {
   "cell_type": "code",
   "execution_count": 19,
   "metadata": {},
   "outputs": [],
   "source": [
    "def replanceLabel(_df, irow, col):\n",
    "    arr = _df[irow][col].split(\",\")\n",
    "    for j in range(len(arr)):\n",
    "        ss = arr[j].strip()\n",
    "        if ss in idLabel:\n",
    "            arr[j] = idLabel.index(ss)\n",
    "        else:\n",
    "            arr[j] = -1\n",
    "    _df[irow][col] = ','.join(map(str, arr))\n",
    "    # _df[0, _df.columns.get_loc('id')] = ','.join(map(str, arr))\n",
    "    # _df.at[irow, col] = ','.join(map(str, arr))\n",
    "def replanceLabels(_df, cols):\n",
    "    for i in range(len(_df)):\n",
    "        for col in cols:\n",
    "            replanceLabel(_df, i, col)\n",
    "def fileWritelabels(tempf, line):\n",
    "    labels = line.split(\",\")\n",
    "    tempf.write(\"{0} \".format(len(labels)))\n",
    "    for label in labels:\n",
    "        tempf.write(\"{0} \".format(label))"
   ]
  },
  {
   "cell_type": "code",
   "execution_count": 20,
   "metadata": {},
   "outputs": [],
   "source": [
    "line_singleUsers = singleUsers.values.tolist()\n",
    "line_teams = teams.values.tolist()"
   ]
  },
  {
   "cell_type": "code",
   "execution_count": 21,
   "metadata": {},
   "outputs": [],
   "source": [
    "replanceLabels(line_singleUsers, [2, 3])\n",
    "replanceLabels(line_teams, [2,5,6,7,8])"
   ]
  },
  {
   "cell_type": "code",
   "execution_count": 22,
   "metadata": {},
   "outputs": [],
   "source": [
    "for i in range(len(line_singleUsers)):\n",
    "    line_singleUsers[i][1] = int(datetime.datetime.strptime(line_singleUsers[i][1], '%m/%d/%Y %H:%M:%S').timestamp())\n",
    "    line_singleUsers[i].append(maxOfTeamPerUsers)"
   ]
  },
  {
   "cell_type": "code",
   "execution_count": 23,
   "metadata": {},
   "outputs": [],
   "source": [
    "line_teams_std = []\n",
    "for team in line_teams:\n",
    "    arr = []\n",
    "    arr.append(team[0])\n",
    "    arr.append(int(datetime.datetime.strptime(team[1], '%m/%d/%Y %H:%M:%S').timestamp()))\n",
    "    arr.append(team[2])\n",
    "    request_temp = []\n",
    "    for i in range(4, len(team)):\n",
    "        if team[i] != '-1':\n",
    "            request_temp.append(team[i])\n",
    "    arr.append(min([maxOfMemberPerTeam - team[3], team[4], len(request_temp)]))\n",
    "    arr.append(','.join(map(str, request_temp)))\n",
    "    line_teams_std.append(arr)"
   ]
  },
  {
   "attachments": {},
   "cell_type": "markdown",
   "metadata": {},
   "source": [
    "## Create file output"
   ]
  },
  {
   "cell_type": "code",
   "execution_count": 24,
   "metadata": {},
   "outputs": [],
   "source": [
    "with open('temp.inp', \"wt\") as tempf:\n",
    "    # Users\n",
    "    tempf.write(\"{0}\\n\".format(len(line_singleUsers)))\n",
    "    for line in line_singleUsers:\n",
    "        tempf.write(\"{0} {1} {2}\\n\".format(line[0], line[1], line[4]))\n",
    "        fileWritelabels(tempf, line[2])\n",
    "        tempf.write(\"\\n\")\n",
    "        fileWritelabels(tempf, line[3])\n",
    "        tempf.write(\"\\n\")\n",
    "    \n",
    "    # Teams\n",
    "    tempf.write(\"{0}\\n\".format(len(line_teams_std)))\n",
    "    for line in line_teams_std:\n",
    "        tempf.write(\"{0} {1} {2}\\n\".format(line[0], line[1], line[3]))\n",
    "        fileWritelabels(tempf, line[2])\n",
    "        tempf.write(\"\\n\")\n",
    "        fileWritelabels(tempf, line[4])\n",
    "        tempf.write(\"\\n\")\n",
    "    \n",
    "    # Del node\n",
    "    tempf.write(\"{0}\\n\".format(0))\n",
    "\n",
    "    # Del edge\n",
    "    tempf.write(\"{0}\\n\".format(1))\n",
    "    tempf.write(\"{0} {1}\\n\".format(2, 0))"
   ]
  },
  {
   "attachments": {},
   "cell_type": "markdown",
   "metadata": {},
   "source": [
    "Using c++ to process data for super fast tay to vl"
   ]
  },
  {
   "cell_type": "code",
   "execution_count": 25,
   "metadata": {},
   "outputs": [
    {
     "data": {
      "text/plain": [
       "0"
      ]
     },
     "execution_count": 25,
     "metadata": {},
     "output_type": "execute_result"
    }
   ],
   "source": [
    "os.system(\"hotaMatching.exe\")"
   ]
  },
  {
   "attachments": {},
   "cell_type": "markdown",
   "metadata": {},
   "source": [
    "## Read output"
   ]
  },
  {
   "cell_type": "code",
   "execution_count": 26,
   "metadata": {},
   "outputs": [],
   "source": [
    "with open(\"temp.out\", \"rt\") as tempf:\n",
    "    result = tempf.read()\n",
    "result = result.strip().split(\"\\n\")\n",
    "for i in range(len(result)):\n",
    "    result[i] = result[i].strip().split(\" \")"
   ]
  },
  {
   "cell_type": "code",
   "execution_count": 27,
   "metadata": {},
   "outputs": [
    {
     "data": {
      "text/plain": [
       "[['1', '0']]"
      ]
     },
     "execution_count": 27,
     "metadata": {},
     "output_type": "execute_result"
    }
   ],
   "source": [
    "result"
   ]
  },
  {
   "cell_type": "code",
   "execution_count": null,
   "metadata": {},
   "outputs": [],
   "source": []
  }
 ],
 "metadata": {
  "kernelspec": {
   "display_name": "Python 3",
   "language": "python",
   "name": "python3"
  },
  "language_info": {
   "codemirror_mode": {
    "name": "ipython",
    "version": 3
   },
   "file_extension": ".py",
   "mimetype": "text/x-python",
   "name": "python",
   "nbconvert_exporter": "python",
   "pygments_lexer": "ipython3",
   "version": "3.8.2"
  },
  "orig_nbformat": 4
 },
 "nbformat": 4,
 "nbformat_minor": 2
}
